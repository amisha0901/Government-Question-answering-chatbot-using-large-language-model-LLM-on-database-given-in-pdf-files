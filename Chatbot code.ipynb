{
 "cells": [
  {
   "cell_type": "code",
   "execution_count": null,
   "id": "ce082d3e",
   "metadata": {},
   "outputs": [],
   "source": [
    "from PyPDF2 import PdfReader\n",
    "from langchain.text_splitter import RecursiveCharacterTextSplitter\n",
    "from langchain_openai import OpenAIEmbeddings\n",
    "from langchain_community.vectorstores.faiss import FAISS\n",
    "from langchain_openai import OpenAIEmbeddings\n",
    "\n",
    "# Initialize PdfReader\n",
    "pdf_reader = PdfReader('COI...pdf')\n",
    "\n",
    "# Initialize variables\n",
    "text = ''\n",
    "page_limit = 1  # Adjust based on your quota and needs\n",
    "count = 0\n",
    "\n",
    "# Extract text from PDF pages\n",
    "for page in pdf_reader.pages:\n",
    "    text += page.extract_text()\n",
    "    count += 1\n",
    "    if count >= page_limit:\n",
    "        break\n",
    "\n",
    "# Initialize text splitter and split text into chunks\n",
    "text_splitter = RecursiveCharacterTextSplitter(chunk_size=1000, chunk_overlap=200, length_function=len)\n",
    "chunks = text_splitter.split_text(text=text)\n",
    "\n",
    "# Initialize OpenAIEmbeddings and FAISS VectorStore\n",
    "openai_api_key = \"sk-None-QbFpBmmzgE2jY2lJoPM9T3BlbkFJyxWctPAtlULKTNrOgQS4\"# Replace with your actual OpenAI API key\n",
    "embeddings = OpenAIEmbeddings(openai_api_key=openai_api_key)\n",
    "vector_store = FAISS.from_texts(chunks, embedding=embeddings)\n"
   ]
  }
 ],
 "metadata": {
  "kernelspec": {
   "display_name": "Python 3 (ipykernel)",
   "language": "python",
   "name": "python3"
  },
  "language_info": {
   "codemirror_mode": {
    "name": "ipython",
    "version": 3
   },
   "file_extension": ".py",
   "mimetype": "text/x-python",
   "name": "python",
   "nbconvert_exporter": "python",
   "pygments_lexer": "ipython3",
   "version": "3.11.5"
  }
 },
 "nbformat": 4,
 "nbformat_minor": 5
}
